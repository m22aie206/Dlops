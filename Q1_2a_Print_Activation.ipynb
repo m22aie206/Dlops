{
  "nbformat": 4,
  "nbformat_minor": 0,
  "metadata": {
    "colab": {
      "provenance": []
    },
    "kernelspec": {
      "name": "python3",
      "display_name": "Python 3"
    },
    "language_info": {
      "name": "python"
    }
  },
  "cells": [
    {
      "cell_type": "code",
      "execution_count": 1,
      "metadata": {
        "id": "T69tXNMpZixv"
      },
      "outputs": [],
      "source": [
        "import numpy as np"
      ]
    },
    {
      "cell_type": "code",
      "source": [
        "def sigmoid(x):\n",
        "    return 1 / (1 + np.exp(-x))\n",
        "\n",
        "r_values = [-3.5, -1.2, 0, 2.8, -4.1, 1.5, -0.7, 3.2, -2.4, 4.6]\n",
        "\n",
        "for val in r_values:\n",
        "    print(f\"Sigmoid({val}) = {sigmoid(val)}\")"
      ],
      "metadata": {
        "colab": {
          "base_uri": "https://localhost:8080/"
        },
        "id": "nCcZ1OIbZp9t",
        "outputId": "9031ea1e-bebb-41c8-f064-ad2d2de1917f"
      },
      "execution_count": 2,
      "outputs": [
        {
          "output_type": "stream",
          "name": "stdout",
          "text": [
            "Sigmoid(-3.5) = 0.02931223075135632\n",
            "Sigmoid(-1.2) = 0.23147521650098238\n",
            "Sigmoid(0) = 0.5\n",
            "Sigmoid(2.8) = 0.9426758241011313\n",
            "Sigmoid(-4.1) = 0.016302499371440946\n",
            "Sigmoid(1.5) = 0.8175744761936437\n",
            "Sigmoid(-0.7) = 0.3318122278318339\n",
            "Sigmoid(3.2) = 0.9608342772032357\n",
            "Sigmoid(-2.4) = 0.08317269649392238\n",
            "Sigmoid(4.6) = 0.9900481981330957\n"
          ]
        }
      ]
    }
  ]
}