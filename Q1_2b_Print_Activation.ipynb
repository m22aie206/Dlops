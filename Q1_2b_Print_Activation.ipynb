{
  "nbformat": 4,
  "nbformat_minor": 0,
  "metadata": {
    "colab": {
      "provenance": []
    },
    "kernelspec": {
      "name": "python3",
      "display_name": "Python 3"
    },
    "language_info": {
      "name": "python"
    }
  },
  "cells": [
    {
      "cell_type": "code",
      "execution_count": 1,
      "metadata": {
        "id": "Gm2xHZL6Y40v"
      },
      "outputs": [],
      "source": [
        "import numpy as np"
      ]
    },
    {
      "cell_type": "code",
      "source": [
        "def relu(x):\n",
        "    return np.maximum(0, x)\n",
        "\n",
        "def leaky_relu(x, alpha=0.01):\n",
        "    return np.where(x > 0, x, alpha * x)\n",
        "\n",
        "def tanh(x):\n",
        "    return np.tanh(x)\n",
        "\n",
        "random_values = [-3.5, -1.2, 0, 2.8, -4.1, 1.5, -0.7, 3.2, -2.4, 4.6]\n",
        "\n",
        "print(\"ReLU Activation:\")\n",
        "print([relu(val) for val in random_values])\n",
        "\n",
        "print(\"Leaky ReLU Activation:\")\n",
        "print([leaky_relu(val) for val in random_values])\n",
        "\n",
        "print(\"Tanh Activation:\")\n",
        "print([tanh(val) for val in random_values])"
      ],
      "metadata": {
        "colab": {
          "base_uri": "https://localhost:8080/"
        },
        "id": "YdDFLJD1ZGge",
        "outputId": "db2733af-31c5-4f7f-b156-cc071015f433"
      },
      "execution_count": 2,
      "outputs": [
        {
          "output_type": "stream",
          "name": "stdout",
          "text": [
            "ReLU Activation:\n",
            "[0.0, 0.0, 0, 2.8, 0.0, 1.5, 0.0, 3.2, 0.0, 4.6]\n",
            "Leaky ReLU Activation:\n",
            "[array(-0.035), array(-0.012), array(0.), array(2.8), array(-0.041), array(1.5), array(-0.007), array(3.2), array(-0.024), array(4.6)]\n",
            "Tanh Activation:\n",
            "[-0.9981778976111987, -0.8336546070121552, 0.0, 0.992631520201128, -0.9994508436877974, 0.9051482536448665, -0.6043677771171634, 0.9966823978396512, -0.9836748576936802, 0.9997979416121844]\n"
          ]
        }
      ]
    }
  ]
}